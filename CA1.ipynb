{
 "cells": [
  {
   "cell_type": "markdown",
   "id": "4d858fa2",
   "metadata": {},
   "source": [
    "#"
   ]
  },
  {
   "cell_type": "markdown",
   "id": "b29296be",
   "metadata": {},
   "source": [
    "#"
   ]
  },
  {
   "cell_type": "markdown",
   "id": "586515a8",
   "metadata": {},
   "source": [
    "# **DAVI CA1 (Data Cleaning)**\n",
    "---\n",
    "#### by Tan Eu Zin, P2415927, from DAAA/FT/2B/22"
   ]
  },
  {
   "cell_type": "markdown",
   "id": "64e3a781",
   "metadata": {},
   "source": [
    "#"
   ]
  },
  {
   "cell_type": "markdown",
   "id": "3f61cf5a",
   "metadata": {},
   "source": [
    "# **Imports :**\n",
    "---"
   ]
  },
  {
   "cell_type": "code",
   "execution_count": 37,
   "id": "021073b9",
   "metadata": {},
   "outputs": [],
   "source": [
    "import pandas as pd \n",
    "import numpy as np \n",
    "import re"
   ]
  },
  {
   "cell_type": "markdown",
   "id": "2034413f",
   "metadata": {},
   "source": [
    "#"
   ]
  },
  {
   "cell_type": "markdown",
   "id": "2d87931e",
   "metadata": {},
   "source": [
    "# **Importing HDB Data (Given) Data :**\n",
    "---"
   ]
  },
  {
   "cell_type": "code",
   "execution_count": 38,
   "id": "c65913e7",
   "metadata": {},
   "outputs": [
    {
     "name": "stderr",
     "output_type": "stream",
     "text": [
      "C:\\Users\\ezinn\\AppData\\Local\\Temp\\ipykernel_27800\\4074349963.py:1: DtypeWarning: Columns (10) have mixed types. Specify dtype option on import or set low_memory=False.\n",
      "  ds = pd.read_csv('HDB Resale flat prices-2017-2025v2.csv')\n"
     ]
    }
   ],
   "source": [
    "ds = pd.read_csv('HDB Resale flat prices-2017-2025v2.csv')"
   ]
  },
  {
   "cell_type": "markdown",
   "id": "86b955b9",
   "metadata": {},
   "source": [
    "#"
   ]
  },
  {
   "cell_type": "markdown",
   "id": "68b5f45f",
   "metadata": {},
   "source": [
    "# **Viewing / Analysing Data :**\n",
    "---"
   ]
  },
  {
   "cell_type": "code",
   "execution_count": 39,
   "id": "57fd1347",
   "metadata": {},
   "outputs": [
    {
     "data": {
      "text/html": [
       "<div>\n",
       "<style scoped>\n",
       "    .dataframe tbody tr th:only-of-type {\n",
       "        vertical-align: middle;\n",
       "    }\n",
       "\n",
       "    .dataframe tbody tr th {\n",
       "        vertical-align: top;\n",
       "    }\n",
       "\n",
       "    .dataframe thead th {\n",
       "        text-align: right;\n",
       "    }\n",
       "</style>\n",
       "<table border=\"1\" class=\"dataframe\">\n",
       "  <thead>\n",
       "    <tr style=\"text-align: right;\">\n",
       "      <th></th>\n",
       "      <th>month</th>\n",
       "      <th>town</th>\n",
       "      <th>flat_type</th>\n",
       "      <th>block</th>\n",
       "      <th>street_name</th>\n",
       "      <th>storey_range</th>\n",
       "      <th>floor_area_sqm</th>\n",
       "      <th>flat_model</th>\n",
       "      <th>lease_commence_date</th>\n",
       "      <th>remaining_lease</th>\n",
       "      <th>resale_price</th>\n",
       "    </tr>\n",
       "  </thead>\n",
       "  <tbody>\n",
       "    <tr>\n",
       "      <th>0</th>\n",
       "      <td>2017-01</td>\n",
       "      <td>ANG MO KIO</td>\n",
       "      <td>2 ROOM</td>\n",
       "      <td>@406</td>\n",
       "      <td>AMK AVE 10</td>\n",
       "      <td>10 TO 12</td>\n",
       "      <td>44.0</td>\n",
       "      <td>Improved</td>\n",
       "      <td>1979</td>\n",
       "      <td>61 years 04 months</td>\n",
       "      <td>232000.0</td>\n",
       "    </tr>\n",
       "    <tr>\n",
       "      <th>1</th>\n",
       "      <td>2017-01</td>\n",
       "      <td>ANG MO KIO</td>\n",
       "      <td>3 ROOM</td>\n",
       "      <td>108</td>\n",
       "      <td>ANG MO KIO AVE 4</td>\n",
       "      <td>01 TO 03</td>\n",
       "      <td>67.0</td>\n",
       "      <td>New-Generation</td>\n",
       "      <td>1978</td>\n",
       "      <td>60 years 07 months</td>\n",
       "      <td>250000.0</td>\n",
       "    </tr>\n",
       "    <tr>\n",
       "      <th>2</th>\n",
       "      <td>2017-01</td>\n",
       "      <td>ANG MO KIO</td>\n",
       "      <td>3-ROOM</td>\n",
       "      <td>602</td>\n",
       "      <td>ANG MO KIO AVE 5</td>\n",
       "      <td>01 TO 03</td>\n",
       "      <td>67.0</td>\n",
       "      <td>New-Generation</td>\n",
       "      <td>1980</td>\n",
       "      <td>62 years 05 months</td>\n",
       "      <td>262000.0</td>\n",
       "    </tr>\n",
       "    <tr>\n",
       "      <th>3</th>\n",
       "      <td>2017-01</td>\n",
       "      <td>ANG MO KIO</td>\n",
       "      <td>3 ROOM</td>\n",
       "      <td>465</td>\n",
       "      <td>AMK AVE 10</td>\n",
       "      <td>04 TO 06</td>\n",
       "      <td>68.0</td>\n",
       "      <td>New Generation</td>\n",
       "      <td>1980</td>\n",
       "      <td>62 years 01 month</td>\n",
       "      <td>265000.0</td>\n",
       "    </tr>\n",
       "    <tr>\n",
       "      <th>4</th>\n",
       "      <td>2017-01</td>\n",
       "      <td>AMK</td>\n",
       "      <td>3-ROOM</td>\n",
       "      <td>601</td>\n",
       "      <td>ANG MO KIO AVE 5</td>\n",
       "      <td>01 TO 03</td>\n",
       "      <td>67.0</td>\n",
       "      <td>New Generation</td>\n",
       "      <td>1980</td>\n",
       "      <td>62 y 05 months</td>\n",
       "      <td>265000.0</td>\n",
       "    </tr>\n",
       "    <tr>\n",
       "      <th>...</th>\n",
       "      <td>...</td>\n",
       "      <td>...</td>\n",
       "      <td>...</td>\n",
       "      <td>...</td>\n",
       "      <td>...</td>\n",
       "      <td>...</td>\n",
       "      <td>...</td>\n",
       "      <td>...</td>\n",
       "      <td>...</td>\n",
       "      <td>...</td>\n",
       "      <td>...</td>\n",
       "    </tr>\n",
       "    <tr>\n",
       "      <th>202759</th>\n",
       "      <td>2025-02</td>\n",
       "      <td>YISHUN</td>\n",
       "      <td>EXECUTIVE</td>\n",
       "      <td>723</td>\n",
       "      <td>YISHUN ST 71</td>\n",
       "      <td>07 TO 09</td>\n",
       "      <td>146.0</td>\n",
       "      <td>Maisonette</td>\n",
       "      <td>1986</td>\n",
       "      <td>60 years 05 months</td>\n",
       "      <td>818888.0</td>\n",
       "    </tr>\n",
       "    <tr>\n",
       "      <th>202760</th>\n",
       "      <td>2025-01</td>\n",
       "      <td>YISHUN</td>\n",
       "      <td>EXECUTIVE</td>\n",
       "      <td>836</td>\n",
       "      <td>YISHUN ST 81</td>\n",
       "      <td>01 TO 03</td>\n",
       "      <td>146.0</td>\n",
       "      <td>Maisonette</td>\n",
       "      <td>1988</td>\n",
       "      <td>62 years 02 months</td>\n",
       "      <td>960000.0</td>\n",
       "    </tr>\n",
       "    <tr>\n",
       "      <th>202761</th>\n",
       "      <td>2025-02</td>\n",
       "      <td>YISHUN</td>\n",
       "      <td>EXECUTIVE</td>\n",
       "      <td>824</td>\n",
       "      <td>YISHUN ST 81</td>\n",
       "      <td>01 TO 03</td>\n",
       "      <td>145.0</td>\n",
       "      <td>Apartment</td>\n",
       "      <td>1987</td>\n",
       "      <td>61 years 10 months</td>\n",
       "      <td>868888.0</td>\n",
       "    </tr>\n",
       "    <tr>\n",
       "      <th>202762</th>\n",
       "      <td>2025-02</td>\n",
       "      <td>YISHUN</td>\n",
       "      <td>EXECUTIVE</td>\n",
       "      <td>826</td>\n",
       "      <td>YISHUN ST 81</td>\n",
       "      <td>10 TO 12</td>\n",
       "      <td>146.0</td>\n",
       "      <td>Maisonette</td>\n",
       "      <td>1988</td>\n",
       "      <td>62 years</td>\n",
       "      <td>1100888.0</td>\n",
       "    </tr>\n",
       "    <tr>\n",
       "      <th>202763</th>\n",
       "      <td>2025-02</td>\n",
       "      <td>YISHUN</td>\n",
       "      <td>EXECUTIVE</td>\n",
       "      <td>826</td>\n",
       "      <td>YISHUN ST 81</td>\n",
       "      <td>10 TO 12</td>\n",
       "      <td>146.0</td>\n",
       "      <td>Maisonette</td>\n",
       "      <td>1988</td>\n",
       "      <td>62 years</td>\n",
       "      <td>1100888.0</td>\n",
       "    </tr>\n",
       "  </tbody>\n",
       "</table>\n",
       "<p>202764 rows × 11 columns</p>\n",
       "</div>"
      ],
      "text/plain": [
       "          month        town  flat_type block       street_name storey_range  \\\n",
       "0       2017-01  ANG MO KIO     2 ROOM  @406        AMK AVE 10     10 TO 12   \n",
       "1       2017-01  ANG MO KIO     3 ROOM   108  ANG MO KIO AVE 4     01 TO 03   \n",
       "2       2017-01  ANG MO KIO     3-ROOM   602  ANG MO KIO AVE 5     01 TO 03   \n",
       "3       2017-01  ANG MO KIO     3 ROOM   465        AMK AVE 10     04 TO 06   \n",
       "4       2017-01         AMK     3-ROOM   601  ANG MO KIO AVE 5     01 TO 03   \n",
       "...         ...         ...        ...   ...               ...          ...   \n",
       "202759  2025-02      YISHUN  EXECUTIVE   723      YISHUN ST 71     07 TO 09   \n",
       "202760  2025-01      YISHUN  EXECUTIVE   836      YISHUN ST 81     01 TO 03   \n",
       "202761  2025-02      YISHUN  EXECUTIVE   824      YISHUN ST 81     01 TO 03   \n",
       "202762  2025-02      YISHUN  EXECUTIVE   826      YISHUN ST 81     10 TO 12   \n",
       "202763  2025-02      YISHUN  EXECUTIVE   826      YISHUN ST 81     10 TO 12   \n",
       "\n",
       "        floor_area_sqm      flat_model  lease_commence_date  \\\n",
       "0                 44.0        Improved                 1979   \n",
       "1                 67.0  New-Generation                 1978   \n",
       "2                 67.0  New-Generation                 1980   \n",
       "3                 68.0  New Generation                 1980   \n",
       "4                 67.0  New Generation                 1980   \n",
       "...                ...             ...                  ...   \n",
       "202759           146.0      Maisonette                 1986   \n",
       "202760           146.0      Maisonette                 1988   \n",
       "202761           145.0       Apartment                 1987   \n",
       "202762           146.0      Maisonette                 1988   \n",
       "202763           146.0      Maisonette                 1988   \n",
       "\n",
       "           remaining_lease resale_price  \n",
       "0       61 years 04 months     232000.0  \n",
       "1       60 years 07 months     250000.0  \n",
       "2       62 years 05 months     262000.0  \n",
       "3        62 years 01 month     265000.0  \n",
       "4           62 y 05 months     265000.0  \n",
       "...                    ...          ...  \n",
       "202759  60 years 05 months     818888.0  \n",
       "202760  62 years 02 months     960000.0  \n",
       "202761  61 years 10 months     868888.0  \n",
       "202762            62 years    1100888.0  \n",
       "202763            62 years    1100888.0  \n",
       "\n",
       "[202764 rows x 11 columns]"
      ]
     },
     "execution_count": 39,
     "metadata": {},
     "output_type": "execute_result"
    }
   ],
   "source": [
    "# viewing the dataset\n",
    "ds\n",
    "\n",
    "# we see that there are 11 columns with 202764 rows"
   ]
  },
  {
   "cell_type": "code",
   "execution_count": 40,
   "id": "eccb6b58",
   "metadata": {},
   "outputs": [
    {
     "name": "stdout",
     "output_type": "stream",
     "text": [
      "<class 'pandas.core.frame.DataFrame'>\n",
      "RangeIndex: 202764 entries, 0 to 202763\n",
      "Data columns (total 11 columns):\n",
      " #   Column               Non-Null Count   Dtype  \n",
      "---  ------               --------------   -----  \n",
      " 0   month                202764 non-null  object \n",
      " 1   town                 202764 non-null  object \n",
      " 2   flat_type            202764 non-null  object \n",
      " 3   block                202764 non-null  object \n",
      " 4   street_name          202764 non-null  object \n",
      " 5   storey_range         202764 non-null  object \n",
      " 6   floor_area_sqm       202764 non-null  float64\n",
      " 7   flat_model           202764 non-null  object \n",
      " 8   lease_commence_date  202764 non-null  int64  \n",
      " 9   remaining_lease      202764 non-null  object \n",
      " 10  resale_price         202764 non-null  object \n",
      "dtypes: float64(1), int64(1), object(9)\n",
      "memory usage: 17.0+ MB\n"
     ]
    }
   ],
   "source": [
    "# view the dataset information\n",
    "ds.info()\n",
    "\n",
    "# we can see the dtype for each column\n",
    "# some of the dtype are wrong \n",
    "# for example, the 'resale_price' column should be float64 but is object\n",
    "# we need to make use of this to convert the column to the correct dtype during cleaning "
   ]
  },
  {
   "cell_type": "code",
   "execution_count": 41,
   "id": "20422a8f",
   "metadata": {},
   "outputs": [
    {
     "name": "stdout",
     "output_type": "stream",
     "text": [
      "Missing Values For Each Column :\n",
      "\n",
      " month                  0\n",
      "town                   0\n",
      "flat_type              0\n",
      "block                  0\n",
      "street_name            0\n",
      "storey_range           0\n",
      "floor_area_sqm         0\n",
      "flat_model             0\n",
      "lease_commence_date    0\n",
      "remaining_lease        0\n",
      "resale_price           0\n",
      "dtype: int64\n"
     ]
    }
   ],
   "source": [
    "# checking for missing rows of data \n",
    "print('Missing Values For Each Column :\\n\\n', ds.isnull().sum())\n",
    "\n",
    "# we see that there are no missing values in the dataset\n",
    "# we do not need to drop any rows or columns or find other ways to fill in missing values"
   ]
  },
  {
   "cell_type": "markdown",
   "id": "2004632b",
   "metadata": {},
   "source": [
    "#"
   ]
  },
  {
   "cell_type": "markdown",
   "id": "3075a0e5",
   "metadata": {},
   "source": [
    "# **Cleaning Data :**\n",
    "---"
   ]
  },
  {
   "cell_type": "markdown",
   "id": "a53e66c8",
   "metadata": {},
   "source": [
    "#"
   ]
  },
  {
   "cell_type": "markdown",
   "id": "100a0a55",
   "metadata": {},
   "source": [
    "### **Cleaning 'flat_model' column**"
   ]
  },
  {
   "cell_type": "code",
   "execution_count": 42,
   "id": "02f9a7e6",
   "metadata": {},
   "outputs": [
    {
     "name": "stdout",
     "output_type": "stream",
     "text": [
      "['Improved' 'New-Generation' 'New Generation' 'NG' 'DBSS' 'Standard'\n",
      " 'Apartment' 'Simplified' 'Model A' 'Premium Apartment' 'Adjoined flat'\n",
      " 'Model A-Maisonette' 'Maisonette' 'Type S1' 'Type S2' 'Model A2'\n",
      " 'Terrace' 'Improved-Maisonette' 'Premium Maisonette' 'Multi Generation'\n",
      " 'Premium Apartment Loft' 'Model -A' '2-room' '3Gen']\n"
     ]
    }
   ],
   "source": [
    "# get the unique values of 'flat_model' column\n",
    "unique_values = ds['flat_model'].unique()\n",
    "print(unique_values)"
   ]
  },
  {
   "cell_type": "code",
   "execution_count": 43,
   "id": "f404919a",
   "metadata": {},
   "outputs": [
    {
     "name": "stdout",
     "output_type": "stream",
     "text": [
      "\n",
      "After cleaning the flat_model column :\n",
      "\n",
      " ['Improved' 'New Generation' 'DBSS' 'Standard' 'Apartment' 'Simplified'\n",
      " 'Model A' 'Premium Apartment' 'Adjoined flat' 'Model A Maisonette'\n",
      " 'Maisonette' 'Type S1' 'Type S2' 'Model A2' 'Terrace'\n",
      " 'Improved Maisonette' 'Premium Maisonette' 'Multi Generation'\n",
      " 'Premium Apartment Loft' '2 room' '3Gen']\n"
     ]
    }
   ],
   "source": [
    "# some of the values are not uniform, for example:\n",
    "# 'New-Generation', 'New Generation', 'NG' all mean the same thing\n",
    "# we need to make them uniform\n",
    "\n",
    "# we see that new-generation, new generation, NG all mean the same thing, so we will make it uniform to New Generation \n",
    "ds['flat_model'] = ds['flat_model'].replace(['New-Generation', 'New Generation', 'NG'], 'New Generation')\n",
    "\n",
    "# we see that Model -A and Model A is the same thing as well \n",
    "ds['flat_model'] = ds['flat_model'].replace(['Model -A', 'Model A'], 'Model A')\n",
    "\n",
    "# replace hyphens with spaces\n",
    "ds['flat_model'] = ds['flat_model'].str.replace('-', ' ')\n",
    "\n",
    "# print results after cleaning\n",
    "print('\\nAfter cleaning the flat_model column :\\n\\n', ds['flat_model'].unique())"
   ]
  },
  {
   "cell_type": "markdown",
   "id": "1f85aeb9",
   "metadata": {},
   "source": [
    "#"
   ]
  },
  {
   "cell_type": "markdown",
   "id": "a0927ccb",
   "metadata": {},
   "source": [
    "### **Cleaning 'town' Column**"
   ]
  },
  {
   "cell_type": "code",
   "execution_count": 44,
   "id": "b7e92e52",
   "metadata": {},
   "outputs": [
    {
     "name": "stdout",
     "output_type": "stream",
     "text": [
      "['ANG MO KIO' 'AMK' 'BEDOK' 'BISHAN' 'BUKIT BATOK' 'BUKIT MERAH'\n",
      " 'BUKIT PANJANG' 'BUKIT TIMAH' 'CENTRAL AREA' 'CHOA CHU KANG' 'CLEMENTI'\n",
      " 'GEYLANG' 'HOUGANG' 'JURONG EAST' 'JURONG WEST' 'KALLANG/WHAMPOA'\n",
      " 'MARINE PARADE' 'PASIR RIS' 'PUNGGOL' 'QUEENSTOWN' 'SEMBAWANG' 'SENGKANG'\n",
      " 'SERANGOON' 'TAMPINES' 'TOA PAYOH' 'WOODLANDS' 'YISHUN' 'CCK' 'SENG-KANG']\n"
     ]
    }
   ],
   "source": [
    "# now we will clean the 'town' column\n",
    "\n",
    "# get the unique values of 'town' column\n",
    "unique_values = ds['town'].unique()\n",
    "print(unique_values)"
   ]
  },
  {
   "cell_type": "code",
   "execution_count": 45,
   "id": "d757bd7d",
   "metadata": {},
   "outputs": [
    {
     "name": "stdout",
     "output_type": "stream",
     "text": [
      "['ANG MO KIO' 'AMK' 'BEDOK' 'BISHAN' 'BUKIT BATOK' 'BUKIT MERAH'\n",
      " 'BUKIT PANJANG' 'BUKIT TIMAH' 'CENTRAL AREA' 'CHOA CHU KANG' 'CLEMENTI'\n",
      " 'GEYLANG' 'HOUGANG' 'JURONG EAST' 'JURONG WEST' 'KALLANG/WHAMPOA'\n",
      " 'MARINE PARADE' 'PASIR RIS' 'PUNGGOL' 'QUEENSTOWN' 'SEMBAWANG' 'SENGKANG'\n",
      " 'SERANGOON' 'TAMPINES' 'TOA PAYOH' 'WOODLANDS' 'YISHUN' 'CCK' 'SENG-KANG']\n",
      "\n",
      "After cleaning the town column :\n",
      "\n",
      " ['ANG MO KIO' 'BEDOK' 'BISHAN' 'BUKIT BATOK' 'BUKIT MERAH' 'BUKIT PANJANG'\n",
      " 'BUKIT TIMAH' 'CENTRAL AREA' 'CHOA CHU KANG' 'CLEMENTI' 'GEYLANG'\n",
      " 'HOUGANG' 'JURONG EAST' 'JURONG WEST' 'KALLANG/WHAMPOA' 'MARINE PARADE'\n",
      " 'PASIR RIS' 'PUNGGOL' 'QUEENSTOWN' 'SEMBAWANG' 'SENGKANG' 'SERANGOON'\n",
      " 'TAMPINES' 'TOA PAYOH' 'WOODLANDS' 'YISHUN']\n"
     ]
    }
   ],
   "source": [
    "# we can see that similar towns are displayed in different ways\n",
    "# we need to make them uniform\n",
    "\n",
    "# get the unique values of 'town' column\n",
    "unique_values = ds['town'].unique()\n",
    "print(unique_values)\n",
    "\n",
    "# we see that alot of the same towns are displayed in another manner, so we make it uniform \n",
    "ds['town'] = ds['town'].replace(['ANG MO KIO', 'AMK'], 'ANG MO KIO')\n",
    "ds['town'] = ds['town'].replace(['SENGKANG', 'SENG-KANG'], 'SENGKANG')\n",
    "ds['town'] = ds['town'].replace(['CHOA CHU KANG', 'CCK'], 'CHOA CHU KANG')\n",
    "\n",
    "# print results after cleaning\n",
    "print('\\nAfter cleaning the town column :\\n\\n', ds['town'].unique())"
   ]
  },
  {
   "cell_type": "markdown",
   "id": "5542928d",
   "metadata": {},
   "source": [
    "#"
   ]
  },
  {
   "cell_type": "markdown",
   "id": "a36fb141",
   "metadata": {},
   "source": [
    "### **Cleaning 'remaining_lease' Column**"
   ]
  },
  {
   "cell_type": "code",
   "execution_count": 46,
   "id": "a7f51f1f",
   "metadata": {},
   "outputs": [
    {
     "name": "stdout",
     "output_type": "stream",
     "text": [
      "Rows found to be in the improper format :\n",
      "4      62 y 05 months\n",
      "11    59 ys 08 months\n",
      "Name: remaining_lease, dtype: object\n"
     ]
    }
   ],
   "source": [
    "# after cleaning the town column, now we check the remaining_lease column\n",
    "\n",
    "# getting the rows that do not have proper format --> X years Y months\n",
    "not_proper_format = ds['remaining_lease'].apply(lambda x: not ('years' in x))\n",
    "\n",
    "# using the boolean series to filter and get the 'remaining_lease' column\n",
    "improper_rows = ds[not_proper_format]['remaining_lease']\n",
    "\n",
    "# show the 'remaining_lease' values and their index labels for the improper rows\n",
    "print('Rows found to be in the improper format :')\n",
    "print(improper_rows)"
   ]
  },
  {
   "cell_type": "code",
   "execution_count": 47,
   "id": "63ab84f2",
   "metadata": {},
   "outputs": [
    {
     "name": "stdout",
     "output_type": "stream",
     "text": [
      "After making changes :\n",
      "4     62 years 05 months\n",
      "11    59 years 08 months\n",
      "Name: remaining_lease, dtype: object\n"
     ]
    }
   ],
   "source": [
    "# now we change the values in the 2 rows (index 4 and 11) to match our fixed format \n",
    "\n",
    "ds.loc[4, 'remaining_lease'] = '62 years 05 months'\n",
    "ds.loc[11, 'remaining_lease'] = '59 years 08 months'\n",
    "\n",
    "# verify the changes\n",
    "print('After making changes :')\n",
    "print(ds.loc[[4, 11], 'remaining_lease'])"
   ]
  },
  {
   "cell_type": "code",
   "execution_count": 48,
   "id": "af44761f",
   "metadata": {},
   "outputs": [
    {
     "name": "stdout",
     "output_type": "stream",
     "text": [
      "0    736\n",
      "1    727\n",
      "2    749\n",
      "3    744\n",
      "4    749\n",
      "Name: remaining_lease_months, dtype: int64\n"
     ]
    }
   ],
   "source": [
    "# we can see that the values in the 'remaining_lease' column are now in the proper format, but are messy\n",
    "# we will now clean the 'remaining_lease' column to make it uniform by converting all values to months\n",
    "\n",
    "# write a function to convert the years in remaining_lease column to months to make it uniform\n",
    "def convert_to_months(lease_str):\n",
    "    if isinstance(lease_str, str):\n",
    "        parts = lease_str.lower().split()\n",
    "        years = 0\n",
    "        months = 0\n",
    "        for i in range(len(parts)):\n",
    "            if parts[i] == 'years':\n",
    "                years = int(parts[i-1])\n",
    "            elif parts[i] == 'months':\n",
    "                months = int(parts[i-1])\n",
    "        return (years * 12) + months\n",
    "    return None # handle potential non-string values\n",
    "\n",
    "# create a new column 'remaining_lease_months' by applying the function to 'remaining_lease'\n",
    "ds['remaining_lease_months'] = ds['remaining_lease'].apply(convert_to_months)\n",
    "\n",
    "# drop the old unclean column\n",
    "ds.drop('remaining_lease', axis=1, inplace=True)\n",
    "\n",
    "# display the result\n",
    "print(ds['remaining_lease_months'].head()) \n",
    "\n",
    "# we can see now that all the remaing_lease is changed into months to make it uniform"
   ]
  },
  {
   "cell_type": "markdown",
   "id": "90de93f2",
   "metadata": {},
   "source": [
    "#"
   ]
  },
  {
   "cell_type": "markdown",
   "id": "eb2bbfd5",
   "metadata": {},
   "source": [
    "### **Cleaning 'flat_type' Column**"
   ]
  },
  {
   "cell_type": "code",
   "execution_count": 49,
   "id": "b2082373",
   "metadata": {},
   "outputs": [
    {
     "name": "stdout",
     "output_type": "stream",
     "text": [
      "['2 ROOM' '3 ROOM' '3-ROOM' '4 ROOM' '5 ROOM' 'EXECUTIVE' '1 ROOM'\n",
      " 'MULTI-GENERATION' '3 RM' '5-RM' '3 ROOMS' '3 ROOMs' '4 ROOMS' '4 ROOMSS']\n"
     ]
    }
   ],
   "source": [
    "# now we will clean the 'flat_type' column\n",
    "\n",
    "print(ds['flat_type'].unique())"
   ]
  },
  {
   "cell_type": "code",
   "execution_count": 50,
   "id": "d6c83fc3",
   "metadata": {},
   "outputs": [
    {
     "name": "stdout",
     "output_type": "stream",
     "text": [
      "\n",
      "After cleaning the flat_type column :\n",
      "\n",
      " ['2 ROOM' '3 ROOM' '4 ROOM' '5 ROOM' 'EXECUTIVE' '1 ROOM'\n",
      " 'MULTI-GENERATION']\n"
     ]
    }
   ],
   "source": [
    "# we see that many of the values with the same meaning are being displayed differently\n",
    "# now we make it all uniform \n",
    "\n",
    "ds['flat_type'] = ds['flat_type'].replace(['3 ROOM', '3-ROOM', '3 RM', '3 ROOMS', '3 ROOMs'], '3 ROOM')\n",
    "ds['flat_type'] = ds['flat_type'].replace(['4 ROOM', '4 ROOMs', '4 ROOMSS', '4 ROOMS'], '4 ROOM')\n",
    "ds['flat_type'] = ds['flat_type'].replace(['5 ROOM', '5-RM'], '5 ROOM')\n",
    "\n",
    "# print results after cleaning\n",
    "print('\\nAfter cleaning the flat_type column :\\n\\n', ds['flat_type'].unique())"
   ]
  },
  {
   "cell_type": "markdown",
   "id": "00b175f7",
   "metadata": {},
   "source": [
    "#"
   ]
  },
  {
   "cell_type": "markdown",
   "id": "8693c2f0",
   "metadata": {},
   "source": [
    "### **Cleaning 'lease_commence_date' Column**"
   ]
  },
  {
   "cell_type": "code",
   "execution_count": 51,
   "id": "ba552eb0",
   "metadata": {},
   "outputs": [
    {
     "name": "stdout",
     "output_type": "stream",
     "text": [
      "Checking for weird year values :\n",
      "\n",
      "[1979 1978 1980 1981 1976 1977 2011 2012 1996 1988 1985 1986 1974 1984\n",
      " 1983 1987 1982 2000 2001 2005 1989 2010 1972 1993 1973 1992 1990 1998\n",
      " 2004 1997 1971 1975 1970 1969 2013 2008 1999 2003 2002 1995 2006 1967\n",
      " 1968 2007 1991 1966 2009 1994 2014 2015 2016 2017 2018 2019 2020 2021]\n"
     ]
    }
   ],
   "source": [
    "# now we look at the lease_commence_date column\n",
    "\n",
    "# check if there are any weird values\n",
    "print('Checking for weird year values :\\n')\n",
    "print(ds['lease_commence_date'].unique())\n",
    "\n",
    "# doesnt seem to have much issues here for this column"
   ]
  },
  {
   "cell_type": "markdown",
   "id": "9a918f97",
   "metadata": {},
   "source": [
    "#"
   ]
  },
  {
   "cell_type": "markdown",
   "id": "a7dc7602",
   "metadata": {},
   "source": [
    "### **Cleaning 'resale_price' Column**"
   ]
  },
  {
   "cell_type": "code",
   "execution_count": 52,
   "id": "973b086b",
   "metadata": {},
   "outputs": [
    {
     "name": "stdout",
     "output_type": "stream",
     "text": [
      "Rows containing specified symbols:\n",
      "88746    -255000\n",
      "88747    -262000\n",
      "88748    -275000\n",
      "88749    -276000\n",
      "88750    285-000\n",
      "Name: resale_price, dtype: object\n"
     ]
    }
   ],
   "source": [
    "# now we check the resale_price column \n",
    "\n",
    "# since the resale_price column is a string, there must be a symbol of some sorts inside \n",
    "# so we check for it\n",
    "\n",
    "# here are the symbols to check for \n",
    "symbols_to_check = ['!', '@', '#', '$', '%', '^', '&', '*', '-']\n",
    "\n",
    "#  initialize a boolean Series\n",
    "contains_symbol = pd.Series([False] * len(ds)) \n",
    "\n",
    "# loop to check for symbols\n",
    "for symbol in symbols_to_check:\n",
    "    contains_symbol = contains_symbol | ds['resale_price'].str.contains(symbol, na=False, regex=False)\n",
    "\n",
    "# rows found to have symbols\n",
    "rows_with_symbols = ds[contains_symbol]['resale_price']\n",
    "print(\"Rows containing specified symbols:\")\n",
    "print(rows_with_symbols)"
   ]
  },
  {
   "cell_type": "code",
   "execution_count": 53,
   "id": "e4464241",
   "metadata": {},
   "outputs": [
    {
     "name": "stdout",
     "output_type": "stream",
     "text": [
      "Values that are changed to be positive : \n",
      "88746      255000.0\n",
      "88747      262000.0\n",
      "88748      275000.0\n",
      "88749      276000.0\n",
      "202743     700000.0\n",
      "202745    7458000.0\n",
      "202746     740000.0\n",
      "202747     685000.0\n",
      "202752    1008000.0\n",
      "Name: resale_price, dtype: object\n",
      "\n",
      "Value with - removed :\n",
      "285000.0\n",
      "\n",
      "resale_price column dtype :  float64\n"
     ]
    }
   ],
   "source": [
    "# change negative values to positive since it is not possible for house prices to be negative and remove any unnecessary symbols\n",
    "\n",
    "# change '285-000' to a number (assuming it means 285000)\n",
    "ds.loc[88750, 'resale_price'] = float(285000)\n",
    "\n",
    "# identify negative values\n",
    "negative_prices = ds['resale_price'].astype(float) < 0\n",
    "\n",
    "# take the absolute value of the negative prices\n",
    "ds.loc[negative_prices, 'resale_price'] = abs(ds.loc[negative_prices, 'resale_price'].astype(float))\n",
    "\n",
    "# verify the changes \n",
    "print('Values that are changed to be positive : ')\n",
    "print(ds.loc[negative_prices, 'resale_price'])\n",
    "print('\\nValue with - removed :')\n",
    "print(ds.loc[88750, 'resale_price'])\n",
    "\n",
    "# now we convert the 'resale_price' column to float64\n",
    "ds['resale_price'] = ds['resale_price'].astype('float64')\n",
    "\n",
    "# verify the data type change\n",
    "print('\\nresale_price column dtype : ', ds['resale_price'].dtype)"
   ]
  },
  {
   "cell_type": "markdown",
   "id": "0e437ddd",
   "metadata": {},
   "source": [
    "#"
   ]
  },
  {
   "cell_type": "markdown",
   "id": "1fb41f73",
   "metadata": {},
   "source": [
    "### **Cleaning 'floor_area_sqm' Column**"
   ]
  },
  {
   "cell_type": "code",
   "execution_count": 54,
   "id": "99be6c8a",
   "metadata": {},
   "outputs": [
    {
     "name": "stdout",
     "output_type": "stream",
     "text": [
      "\n",
      "Number of negative floor area values : 0\n"
     ]
    }
   ],
   "source": [
    "# since this column is already in float64, we only need to check for missing and negative values as both are not applicable\n",
    "# missing data cannot be used (already checked earlier infront) and it is not possible for floor area to be negative either\n",
    "\n",
    "# create a boolean series indicating rows where 'floor_area_sqm' is negative\n",
    "negative_area = ds['floor_area_sqm'] < 0\n",
    "\n",
    "# get the count of negative floor area values\n",
    "num_negative_area = negative_area.sum()\n",
    "print(f\"\\nNumber of negative floor area values : {num_negative_area}\")\n",
    "\n",
    "# since there are no negative values, we do not need to clean this column"
   ]
  },
  {
   "cell_type": "markdown",
   "id": "100559bd",
   "metadata": {},
   "source": [
    "#"
   ]
  },
  {
   "cell_type": "markdown",
   "id": "e25cdad3",
   "metadata": {},
   "source": [
    "### **Cleaning 'month' Column**"
   ]
  },
  {
   "cell_type": "code",
   "execution_count": 55,
   "id": "df560281",
   "metadata": {},
   "outputs": [
    {
     "name": "stdout",
     "output_type": "stream",
     "text": [
      "The 'month' column appears to be consistently in 'YYYY-MM' format!!!\n"
     ]
    }
   ],
   "source": [
    "# using a try except to check if there are any weird rows of data / not in correct format and check for missing values \n",
    "# the month column should be in the format YYYY-MM \n",
    "\n",
    "try:\n",
    "    pd.to_datetime(ds['month'], format='%Y-%m', errors='raise')\n",
    "    print(\"The 'month' column appears to be consistently in 'YYYY-MM' format!!!\")\n",
    "except ValueError as e:\n",
    "    print(f\"Potential formatting issues found in 'month' column :\\n{e}\")\n",
    "\n",
    "# since there are no issues, no need to clean this column\n",
    "# we can move on to the next column"
   ]
  },
  {
   "cell_type": "markdown",
   "id": "3bd6991c",
   "metadata": {},
   "source": [
    "#"
   ]
  },
  {
   "cell_type": "markdown",
   "id": "9ddb273b",
   "metadata": {},
   "source": [
    "### **Cleaning 'block' Column**"
   ]
  },
  {
   "cell_type": "code",
   "execution_count": 56,
   "id": "0d469ec4",
   "metadata": {},
   "outputs": [
    {
     "name": "stdout",
     "output_type": "stream",
     "text": [
      "         block\n",
      "0         @406\n",
      "15       @@230\n",
      "44        @304\n",
      "45      \"**646\n",
      "47     \"**588C\n",
      "19126     @160\n",
      "19127     333%\n",
      "19128     #332\n",
      "19129     #321\n",
      "19130     #346\n",
      "19142     $105\n",
      "19143     $226\n",
      "19144     220%\n",
      "19145     241%\n",
      "19146     &219\n",
      "19147    %289E\n",
      "19148    %289E\n"
     ]
    }
   ],
   "source": [
    "# viewing the issues in the block column \n",
    "\n",
    "# backup the original block values\n",
    "ds['original_block'] = ds['block']\n",
    "\n",
    "# define validation function\n",
    "def is_valid_block(block):\n",
    "    # check if the block starts with a digit and contains only alphanumeric characters\n",
    "    return bool(re.match(r'^[0-9][a-zA-Z0-9]*$', str(block)))\n",
    "\n",
    "\n",
    "# filter and display rows with invalid block values\n",
    "invalid_blocks = ds[~ds['block'].apply(is_valid_block)]\n",
    "print(invalid_blocks[['block']])\n"
   ]
  },
  {
   "cell_type": "code",
   "execution_count": 57,
   "id": "ef4cedaf",
   "metadata": {},
   "outputs": [
    {
     "name": "stdout",
     "output_type": "stream",
     "text": [
      "      original_block block\n",
      "0               @406   406\n",
      "15             @@230   230\n",
      "44              @304   304\n",
      "45            \"**646   646\n",
      "47           \"**588C  588C\n",
      "19126           @160   160\n",
      "19127           333%   333\n",
      "19128           #332   332\n",
      "19129           #321   321\n",
      "19130           #346   346\n",
      "19142           $105   105\n",
      "19143           $226   226\n",
      "19144           220%   220\n",
      "19145           241%   241\n",
      "19146           &219   219\n",
      "19147          %289E  289E\n",
      "19148          %289E  289E\n"
     ]
    }
   ],
   "source": [
    "# we can see that there are some blocks that do not start with a digit or have non-alphanumeric characters \n",
    "# blocks in singapore typically start with a digit followed by alphanumeric characters\n",
    "# we will have to remove the symbols and ensure that the block starts with a digit\n",
    "\n",
    "# now we clean up the block column \n",
    "\n",
    "# define cleaning function\n",
    "def clean_block(block):\n",
    "\n",
    "    # remove all non-alphanumeric characters and ensure it starts with a digit\n",
    "    cleaned = re.sub(r'[^a-zA-Z0-9]', '', str(block))\n",
    "\n",
    "    # ensure the cleaned block starts with a digit\n",
    "    return cleaned if cleaned and cleaned[0].isdigit() else None\n",
    "\n",
    "# clean the block values\n",
    "ds['block'] = ds['block'].apply(lambda x: clean_block(x) if not is_valid_block(x) else x)\n",
    "\n",
    "# show only rows where the block was changed due to cleaning\n",
    "changed_rows = ds[ds['block'] != ds['original_block']]\n",
    "print(changed_rows[['original_block', 'block']])"
   ]
  },
  {
   "cell_type": "code",
   "execution_count": 58,
   "id": "680ab02b",
   "metadata": {},
   "outputs": [],
   "source": [
    "# now we drop the original_block column as it is no longer needed \n",
    "ds.drop(columns=['original_block'], inplace=True)"
   ]
  },
  {
   "cell_type": "code",
   "execution_count": 59,
   "id": "e757d138",
   "metadata": {},
   "outputs": [
    {
     "name": "stdout",
     "output_type": "stream",
     "text": [
      "0         406\n",
      "1         108\n",
      "2         602\n",
      "3         465\n",
      "4         601\n",
      "         ... \n",
      "202759    723\n",
      "202760    836\n",
      "202761    824\n",
      "202762    826\n",
      "202763    826\n",
      "Name: block, Length: 202764, dtype: object\n"
     ]
    }
   ],
   "source": [
    "# now we check that the block column is cleaned and has no invalid values\n",
    "print(ds['block'])"
   ]
  },
  {
   "cell_type": "markdown",
   "id": "5f9f4d7a",
   "metadata": {},
   "source": [
    "#"
   ]
  },
  {
   "cell_type": "markdown",
   "id": "b9188a14",
   "metadata": {},
   "source": [
    "### **Cleaning 'storey_range' Column**"
   ]
  },
  {
   "cell_type": "code",
   "execution_count": 60,
   "id": "96f889cd",
   "metadata": {},
   "outputs": [
    {
     "name": "stdout",
     "output_type": "stream",
     "text": [
      "invalid storey ranges before cleaning:\n",
      "      storey_range\n",
      "8          04---06\n",
      "9           01@@03\n",
      "10           01@03\n",
      "11           10@12\n",
      "14          07@@09\n",
      "22537     04 -- 06\n",
      "22538     01 ---03\n",
      "22539    07 --- 09\n",
      "22545     04 -- 06\n",
      "22546     07 -- 09\n",
      "22547     04 -- 06\n",
      "22623       10--12\n",
      "22624     01----03\n",
      "88753       10-Dec\n",
      "88754        4-Jun\n",
      "88755      13 - 15\n",
      "88756        4-Jun\n",
      "88785     04 -- 06\n",
      "88786     07 -- 09\n",
      "88787    22 --- 24\n",
      "88788     19 -- 21\n",
      "88789     22 -- 24\n",
      "88790     19 -- 21\n",
      "88791     01 -- 03\n"
     ]
    }
   ],
   "source": [
    "# now we clean the 'storey_range' column \n",
    "\n",
    "# backup the original storey_range values\n",
    "ds['original_storey_range'] = ds['storey_range']\n",
    "\n",
    "# define a function to validate storey range format XX TO YY\n",
    "def is_valid_storey_range(storey_range):\n",
    "\n",
    "    # valid format: 'xx TO yy' where xx and yy are two-digit numbers\n",
    "    return bool(re.match(r'^\\d{2} TO \\d{2}$', str(storey_range)))\n",
    "\n",
    "\n",
    "# filter and count rows with invalid storey range values\n",
    "invalid_storey_ranges = ds[~ds['storey_range'].apply(is_valid_storey_range)]\n",
    "\n",
    "# show the invalid storey ranges\n",
    "print(\"invalid storey ranges before cleaning:\")\n",
    "print(invalid_storey_ranges[['storey_range']])"
   ]
  },
  {
   "cell_type": "code",
   "execution_count": 61,
   "id": "7e1533e5",
   "metadata": {},
   "outputs": [
    {
     "name": "stdout",
     "output_type": "stream",
     "text": [
      "invalid storey ranges before cleaning and after dropping unclean-able rows :\n",
      "      storey_range\n",
      "8          04---06\n",
      "9           01@@03\n",
      "10           01@03\n",
      "11           10@12\n",
      "14          07@@09\n",
      "22537     04 -- 06\n",
      "22538     01 ---03\n",
      "22539    07 --- 09\n",
      "22545     04 -- 06\n",
      "22546     07 -- 09\n",
      "22547     04 -- 06\n",
      "22623       10--12\n",
      "22624     01----03\n",
      "88753       10-Dec\n",
      "88754        4-Jun\n",
      "88755      13 - 15\n",
      "88756        4-Jun\n",
      "88785     04 -- 06\n",
      "88786     07 -- 09\n",
      "88787    22 --- 24\n",
      "88788     19 -- 21\n",
      "88789     22 -- 24\n",
      "88790     19 -- 21\n",
      "88791     01 -- 03\n"
     ]
    }
   ],
   "source": [
    "# looking at the rows, some of the storey ranges do not give two numbers \n",
    "# these rows are 88756, 88754 and 88753\n",
    "# since we cannot determine the storey range, we will drop these rows \n",
    "\n",
    "ds.drop(index=[88756, 88754, 88753], inplace=True)\n",
    "\n",
    "# now we can check the storey range column again \n",
    "# check the storey range column after dropping the invalid rows\n",
    "print(\"invalid storey ranges before cleaning and after dropping unclean-able rows :\")\n",
    "print(invalid_storey_ranges[['storey_range']])"
   ]
  },
  {
   "cell_type": "code",
   "execution_count": 62,
   "id": "d51f4d9f",
   "metadata": {},
   "outputs": [
    {
     "name": "stdout",
     "output_type": "stream",
     "text": [
      "Storey ranges that were changed:\n",
      "      original_storey_range storey_range\n",
      "8                   04---06     04 TO 06\n",
      "9                    01@@03     01 TO 03\n",
      "10                    01@03     01 TO 03\n",
      "11                    10@12     10 TO 12\n",
      "14                   07@@09     07 TO 09\n",
      "22537              04 -- 06     04 TO 06\n",
      "22538              01 ---03     01 TO 03\n",
      "22539             07 --- 09     07 TO 09\n",
      "22545              04 -- 06     04 TO 06\n",
      "22546              07 -- 09     07 TO 09\n",
      "22547              04 -- 06     04 TO 06\n",
      "22623                10--12     10 TO 12\n",
      "22624              01----03     01 TO 03\n",
      "88755               13 - 15     13 TO 15\n",
      "88785              04 -- 06     04 TO 06\n",
      "88786              07 -- 09     07 TO 09\n",
      "88787             22 --- 24     22 TO 24\n",
      "88788              19 -- 21     19 TO 21\n",
      "88789              22 -- 24     22 TO 24\n",
      "88790              19 -- 21     19 TO 21\n",
      "88791              01 -- 03     01 TO 03\n"
     ]
    }
   ],
   "source": [
    "# now we clean the remaining values in the 'storey_range' column that do not match the valid format\n",
    "\n",
    "# define a function to clean storey range values\n",
    "def clean_storey_range(storey_range):\n",
    "\n",
    "    # convert to string and ensure it's not None\n",
    "    s = str(storey_range)\n",
    "\n",
    "    # remove all non-digit characters except spaces, then replace multiple spaces with a single space\n",
    "\n",
    "    cleaned = re.sub(r'[^0-9 ]', ' ', s) # remove all non-digit characters except spaces\n",
    "    cleaned = re.sub(r'\\s+', ' ', cleaned).strip() # replace multiple spaces with a single space and strip leading/trailing spaces\n",
    "\n",
    "    # try to extract numbers from the cleaned string\n",
    "    numbers = re.findall(r'\\d+', cleaned)\n",
    "\n",
    "    if len(numbers) == 2:\n",
    "\n",
    "        # if two numbers are found, format them as 'XX TO YY'\n",
    "        try:\n",
    "            num1 = int(numbers[0])\n",
    "            num2 = int(numbers[1])\n",
    "            return f\"{num1:0>2} TO {num2:0>2}\"\n",
    "        except ValueError:\n",
    "            return None # should not happen if re.findall only finds digits, but for safety\n",
    "    \n",
    "    return None # return None if no valid numbers can be extracted\n",
    "\n",
    "\n",
    "\n",
    "# apply cleaning\n",
    "\n",
    "# the lambda function ensures that clean_storey_range is only called if the value is NOT already valid\n",
    "ds['storey_range'] = ds['storey_range'].apply(\n",
    "    lambda x: clean_storey_range(x) if not is_valid_storey_range(x) else x\n",
    ")\n",
    "\n",
    "# show only rows where the storey range was changed due to cleaning\n",
    "changed_storey_ranges = ds[ds['storey_range'] != ds['original_storey_range']]\n",
    "print(\"Storey ranges that were changed:\")\n",
    "print(changed_storey_ranges[['original_storey_range', 'storey_range']])"
   ]
  },
  {
   "cell_type": "markdown",
   "id": "3c9b3381",
   "metadata": {},
   "source": [
    "#"
   ]
  },
  {
   "cell_type": "markdown",
   "id": "a47533a2",
   "metadata": {},
   "source": [
    "# **Cleaned Data** (given)\n",
    "---"
   ]
  },
  {
   "cell_type": "code",
   "execution_count": 63,
   "metadata": {},
   "outputs": [
    {
     "data": {
      "text/html": [
       "<div>\n",
       "<style scoped>\n",
       "    .dataframe tbody tr th:only-of-type {\n",
       "        vertical-align: middle;\n",
       "    }\n",
       "\n",
       "    .dataframe tbody tr th {\n",
       "        vertical-align: top;\n",
       "    }\n",
       "\n",
       "    .dataframe thead th {\n",
       "        text-align: right;\n",
       "    }\n",
       "</style>\n",
       "<table border=\"1\" class=\"dataframe\">\n",
       "  <thead>\n",
       "    <tr style=\"text-align: right;\">\n",
       "      <th></th>\n",
       "      <th>month</th>\n",
       "      <th>town</th>\n",
       "      <th>flat_type</th>\n",
       "      <th>block</th>\n",
       "      <th>street_name</th>\n",
       "      <th>storey_range</th>\n",
       "      <th>floor_area_sqm</th>\n",
       "      <th>flat_model</th>\n",
       "      <th>lease_commence_date</th>\n",
       "      <th>resale_price</th>\n",
       "      <th>remaining_lease_months</th>\n",
       "      <th>original_storey_range</th>\n",
       "    </tr>\n",
       "  </thead>\n",
       "  <tbody>\n",
       "    <tr>\n",
       "      <th>0</th>\n",
       "      <td>2017-01</td>\n",
       "      <td>ANG MO KIO</td>\n",
       "      <td>2 ROOM</td>\n",
       "      <td>406</td>\n",
       "      <td>AMK AVE 10</td>\n",
       "      <td>10 TO 12</td>\n",
       "      <td>44.0</td>\n",
       "      <td>Improved</td>\n",
       "      <td>1979</td>\n",
       "      <td>232000.0</td>\n",
       "      <td>736</td>\n",
       "      <td>10 TO 12</td>\n",
       "    </tr>\n",
       "    <tr>\n",
       "      <th>1</th>\n",
       "      <td>2017-01</td>\n",
       "      <td>ANG MO KIO</td>\n",
       "      <td>3 ROOM</td>\n",
       "      <td>108</td>\n",
       "      <td>ANG MO KIO AVE 4</td>\n",
       "      <td>01 TO 03</td>\n",
       "      <td>67.0</td>\n",
       "      <td>New Generation</td>\n",
       "      <td>1978</td>\n",
       "      <td>250000.0</td>\n",
       "      <td>727</td>\n",
       "      <td>01 TO 03</td>\n",
       "    </tr>\n",
       "    <tr>\n",
       "      <th>2</th>\n",
       "      <td>2017-01</td>\n",
       "      <td>ANG MO KIO</td>\n",
       "      <td>3 ROOM</td>\n",
       "      <td>602</td>\n",
       "      <td>ANG MO KIO AVE 5</td>\n",
       "      <td>01 TO 03</td>\n",
       "      <td>67.0</td>\n",
       "      <td>New Generation</td>\n",
       "      <td>1980</td>\n",
       "      <td>262000.0</td>\n",
       "      <td>749</td>\n",
       "      <td>01 TO 03</td>\n",
       "    </tr>\n",
       "    <tr>\n",
       "      <th>3</th>\n",
       "      <td>2017-01</td>\n",
       "      <td>ANG MO KIO</td>\n",
       "      <td>3 ROOM</td>\n",
       "      <td>465</td>\n",
       "      <td>AMK AVE 10</td>\n",
       "      <td>04 TO 06</td>\n",
       "      <td>68.0</td>\n",
       "      <td>New Generation</td>\n",
       "      <td>1980</td>\n",
       "      <td>265000.0</td>\n",
       "      <td>744</td>\n",
       "      <td>04 TO 06</td>\n",
       "    </tr>\n",
       "    <tr>\n",
       "      <th>4</th>\n",
       "      <td>2017-01</td>\n",
       "      <td>ANG MO KIO</td>\n",
       "      <td>3 ROOM</td>\n",
       "      <td>601</td>\n",
       "      <td>ANG MO KIO AVE 5</td>\n",
       "      <td>01 TO 03</td>\n",
       "      <td>67.0</td>\n",
       "      <td>New Generation</td>\n",
       "      <td>1980</td>\n",
       "      <td>265000.0</td>\n",
       "      <td>749</td>\n",
       "      <td>01 TO 03</td>\n",
       "    </tr>\n",
       "    <tr>\n",
       "      <th>...</th>\n",
       "      <td>...</td>\n",
       "      <td>...</td>\n",
       "      <td>...</td>\n",
       "      <td>...</td>\n",
       "      <td>...</td>\n",
       "      <td>...</td>\n",
       "      <td>...</td>\n",
       "      <td>...</td>\n",
       "      <td>...</td>\n",
       "      <td>...</td>\n",
       "      <td>...</td>\n",
       "      <td>...</td>\n",
       "    </tr>\n",
       "    <tr>\n",
       "      <th>202759</th>\n",
       "      <td>2025-02</td>\n",
       "      <td>YISHUN</td>\n",
       "      <td>EXECUTIVE</td>\n",
       "      <td>723</td>\n",
       "      <td>YISHUN ST 71</td>\n",
       "      <td>07 TO 09</td>\n",
       "      <td>146.0</td>\n",
       "      <td>Maisonette</td>\n",
       "      <td>1986</td>\n",
       "      <td>818888.0</td>\n",
       "      <td>725</td>\n",
       "      <td>07 TO 09</td>\n",
       "    </tr>\n",
       "    <tr>\n",
       "      <th>202760</th>\n",
       "      <td>2025-01</td>\n",
       "      <td>YISHUN</td>\n",
       "      <td>EXECUTIVE</td>\n",
       "      <td>836</td>\n",
       "      <td>YISHUN ST 81</td>\n",
       "      <td>01 TO 03</td>\n",
       "      <td>146.0</td>\n",
       "      <td>Maisonette</td>\n",
       "      <td>1988</td>\n",
       "      <td>960000.0</td>\n",
       "      <td>746</td>\n",
       "      <td>01 TO 03</td>\n",
       "    </tr>\n",
       "    <tr>\n",
       "      <th>202761</th>\n",
       "      <td>2025-02</td>\n",
       "      <td>YISHUN</td>\n",
       "      <td>EXECUTIVE</td>\n",
       "      <td>824</td>\n",
       "      <td>YISHUN ST 81</td>\n",
       "      <td>01 TO 03</td>\n",
       "      <td>145.0</td>\n",
       "      <td>Apartment</td>\n",
       "      <td>1987</td>\n",
       "      <td>868888.0</td>\n",
       "      <td>742</td>\n",
       "      <td>01 TO 03</td>\n",
       "    </tr>\n",
       "    <tr>\n",
       "      <th>202762</th>\n",
       "      <td>2025-02</td>\n",
       "      <td>YISHUN</td>\n",
       "      <td>EXECUTIVE</td>\n",
       "      <td>826</td>\n",
       "      <td>YISHUN ST 81</td>\n",
       "      <td>10 TO 12</td>\n",
       "      <td>146.0</td>\n",
       "      <td>Maisonette</td>\n",
       "      <td>1988</td>\n",
       "      <td>1100888.0</td>\n",
       "      <td>744</td>\n",
       "      <td>10 TO 12</td>\n",
       "    </tr>\n",
       "    <tr>\n",
       "      <th>202763</th>\n",
       "      <td>2025-02</td>\n",
       "      <td>YISHUN</td>\n",
       "      <td>EXECUTIVE</td>\n",
       "      <td>826</td>\n",
       "      <td>YISHUN ST 81</td>\n",
       "      <td>10 TO 12</td>\n",
       "      <td>146.0</td>\n",
       "      <td>Maisonette</td>\n",
       "      <td>1988</td>\n",
       "      <td>1100888.0</td>\n",
       "      <td>744</td>\n",
       "      <td>10 TO 12</td>\n",
       "    </tr>\n",
       "  </tbody>\n",
       "</table>\n",
       "<p>202761 rows × 12 columns</p>\n",
       "</div>"
      ],
      "text/plain": [
       "          month        town  flat_type block       street_name storey_range  \\\n",
       "0       2017-01  ANG MO KIO     2 ROOM   406        AMK AVE 10     10 TO 12   \n",
       "1       2017-01  ANG MO KIO     3 ROOM   108  ANG MO KIO AVE 4     01 TO 03   \n",
       "2       2017-01  ANG MO KIO     3 ROOM   602  ANG MO KIO AVE 5     01 TO 03   \n",
       "3       2017-01  ANG MO KIO     3 ROOM   465        AMK AVE 10     04 TO 06   \n",
       "4       2017-01  ANG MO KIO     3 ROOM   601  ANG MO KIO AVE 5     01 TO 03   \n",
       "...         ...         ...        ...   ...               ...          ...   \n",
       "202759  2025-02      YISHUN  EXECUTIVE   723      YISHUN ST 71     07 TO 09   \n",
       "202760  2025-01      YISHUN  EXECUTIVE   836      YISHUN ST 81     01 TO 03   \n",
       "202761  2025-02      YISHUN  EXECUTIVE   824      YISHUN ST 81     01 TO 03   \n",
       "202762  2025-02      YISHUN  EXECUTIVE   826      YISHUN ST 81     10 TO 12   \n",
       "202763  2025-02      YISHUN  EXECUTIVE   826      YISHUN ST 81     10 TO 12   \n",
       "\n",
       "        floor_area_sqm      flat_model  lease_commence_date  resale_price  \\\n",
       "0                 44.0        Improved                 1979      232000.0   \n",
       "1                 67.0  New Generation                 1978      250000.0   \n",
       "2                 67.0  New Generation                 1980      262000.0   \n",
       "3                 68.0  New Generation                 1980      265000.0   \n",
       "4                 67.0  New Generation                 1980      265000.0   \n",
       "...                ...             ...                  ...           ...   \n",
       "202759           146.0      Maisonette                 1986      818888.0   \n",
       "202760           146.0      Maisonette                 1988      960000.0   \n",
       "202761           145.0       Apartment                 1987      868888.0   \n",
       "202762           146.0      Maisonette                 1988     1100888.0   \n",
       "202763           146.0      Maisonette                 1988     1100888.0   \n",
       "\n",
       "        remaining_lease_months original_storey_range  \n",
       "0                          736              10 TO 12  \n",
       "1                          727              01 TO 03  \n",
       "2                          749              01 TO 03  \n",
       "3                          744              04 TO 06  \n",
       "4                          749              01 TO 03  \n",
       "...                        ...                   ...  \n",
       "202759                     725              07 TO 09  \n",
       "202760                     746              01 TO 03  \n",
       "202761                     742              01 TO 03  \n",
       "202762                     744              10 TO 12  \n",
       "202763                     744              10 TO 12  \n",
       "\n",
       "[202761 rows x 12 columns]"
      ]
     },
     "execution_count": 63,
     "metadata": {},
     "output_type": "execute_result"
    }
   ],
   "source": [
    "# now we view the cleaned dataset (given)\n",
    "ds"
   ]
  },
  {
   "cell_type": "markdown",
   "id": "7edbefab",
   "metadata": {},
   "source": [
    "#"
   ]
  },
  {
   "cell_type": "markdown",
   "id": "8bf184f4",
   "metadata": {},
   "source": [
    "# **Exporting Cleaned Data** (given)\n",
    "---"
   ]
  },
  {
   "cell_type": "code",
   "execution_count": 64,
   "id": "59fe1cec",
   "metadata": {},
   "outputs": [],
   "source": [
    "# now we export the cleaned dataset to a new CSV file\n",
    "ds.to_csv('HDB_Resale_flat_prices_CLEANED.csv', index=False)"
   ]
  },
  {
   "cell_type": "markdown",
   "id": "7850e96f",
   "metadata": {},
   "source": [
    "#"
   ]
  },
  {
   "cell_type": "markdown",
   "id": "97467bd1",
   "metadata": {},
   "source": [
    "# **Importing Additional Dataset**\n",
    "---"
   ]
  },
  {
   "cell_type": "code",
   "execution_count": 65,
   "id": "170c5c3c",
   "metadata": {},
   "outputs": [],
   "source": [
    "ds2 = pd.read_csv('HDBResalePriceIndex1Q2009100Quarterly.csv')"
   ]
  },
  {
   "cell_type": "markdown",
   "id": "5de6b17d",
   "metadata": {},
   "source": [
    "- This dataset shows the index (% increase) of resale prices of HDB flats overtime. \n",
    "- We will use this dataset as our external dataset to plot a maximum of 2 visualisations.\n",
    "- This dataset will support our claim in showing the increase in house prices.\n",
    "- The first column, 'quarter', shows the quarters of the year. (For example, 2020-Q1 is the first quarter of the year 2020).\n",
    "- The second column, 'index', is used to represent the relative change of a set of prices (in this case, HDB resale prices) compared to a chosen base period."
   ]
  },
  {
   "cell_type": "markdown",
   "id": "9279a5d3",
   "metadata": {},
   "source": [
    "# "
   ]
  },
  {
   "cell_type": "markdown",
   "id": "a9e249d2",
   "metadata": {},
   "source": [
    "# **Viewing / Analysing Additional Dataset**\n",
    "---"
   ]
  },
  {
   "cell_type": "code",
   "execution_count": 66,
   "id": "9e776480",
   "metadata": {},
   "outputs": [
    {
     "data": {
      "text/html": [
       "<div>\n",
       "<style scoped>\n",
       "    .dataframe tbody tr th:only-of-type {\n",
       "        vertical-align: middle;\n",
       "    }\n",
       "\n",
       "    .dataframe tbody tr th {\n",
       "        vertical-align: top;\n",
       "    }\n",
       "\n",
       "    .dataframe thead th {\n",
       "        text-align: right;\n",
       "    }\n",
       "</style>\n",
       "<table border=\"1\" class=\"dataframe\">\n",
       "  <thead>\n",
       "    <tr style=\"text-align: right;\">\n",
       "      <th></th>\n",
       "      <th>quarter</th>\n",
       "      <th>index</th>\n",
       "    </tr>\n",
       "  </thead>\n",
       "  <tbody>\n",
       "    <tr>\n",
       "      <th>0</th>\n",
       "      <td>1990-Q1</td>\n",
       "      <td>24.3</td>\n",
       "    </tr>\n",
       "    <tr>\n",
       "      <th>1</th>\n",
       "      <td>1990-Q2</td>\n",
       "      <td>24.4</td>\n",
       "    </tr>\n",
       "    <tr>\n",
       "      <th>2</th>\n",
       "      <td>1990-Q3</td>\n",
       "      <td>25.0</td>\n",
       "    </tr>\n",
       "    <tr>\n",
       "      <th>3</th>\n",
       "      <td>1990-Q4</td>\n",
       "      <td>24.7</td>\n",
       "    </tr>\n",
       "    <tr>\n",
       "      <th>4</th>\n",
       "      <td>1991-Q1</td>\n",
       "      <td>24.9</td>\n",
       "    </tr>\n",
       "    <tr>\n",
       "      <th>...</th>\n",
       "      <td>...</td>\n",
       "      <td>...</td>\n",
       "    </tr>\n",
       "    <tr>\n",
       "      <th>136</th>\n",
       "      <td>2024-Q1</td>\n",
       "      <td>183.7</td>\n",
       "    </tr>\n",
       "    <tr>\n",
       "      <th>137</th>\n",
       "      <td>2024-Q2</td>\n",
       "      <td>187.9</td>\n",
       "    </tr>\n",
       "    <tr>\n",
       "      <th>138</th>\n",
       "      <td>2024-Q3</td>\n",
       "      <td>192.9</td>\n",
       "    </tr>\n",
       "    <tr>\n",
       "      <th>139</th>\n",
       "      <td>2024-Q4</td>\n",
       "      <td>197.9</td>\n",
       "    </tr>\n",
       "    <tr>\n",
       "      <th>140</th>\n",
       "      <td>2025-Q1</td>\n",
       "      <td>201.0</td>\n",
       "    </tr>\n",
       "  </tbody>\n",
       "</table>\n",
       "<p>141 rows × 2 columns</p>\n",
       "</div>"
      ],
      "text/plain": [
       "     quarter  index\n",
       "0    1990-Q1   24.3\n",
       "1    1990-Q2   24.4\n",
       "2    1990-Q3   25.0\n",
       "3    1990-Q4   24.7\n",
       "4    1991-Q1   24.9\n",
       "..       ...    ...\n",
       "136  2024-Q1  183.7\n",
       "137  2024-Q2  187.9\n",
       "138  2024-Q3  192.9\n",
       "139  2024-Q4  197.9\n",
       "140  2025-Q1  201.0\n",
       "\n",
       "[141 rows x 2 columns]"
      ]
     },
     "execution_count": 66,
     "metadata": {},
     "output_type": "execute_result"
    }
   ],
   "source": [
    "# viewing the additional dataset\n",
    "ds2\n",
    "\n",
    "# we see that there are 141 rows with 2 columns"
   ]
  },
  {
   "cell_type": "markdown",
   "id": "8400a5b5",
   "metadata": {},
   "source": [
    "#"
   ]
  },
  {
   "cell_type": "markdown",
   "id": "81e49e9c",
   "metadata": {},
   "source": [
    "# **Cleaning Additional Dataset**\n",
    "---"
   ]
  },
  {
   "cell_type": "code",
   "execution_count": 67,
   "id": "81ba8d6b",
   "metadata": {},
   "outputs": [
    {
     "name": "stdout",
     "output_type": "stream",
     "text": [
      "\n",
      "Null values in 'ds2' per column:\n",
      "quarter    0\n",
      "index      0\n",
      "dtype: int64\n"
     ]
    }
   ],
   "source": [
    "# first wheck for null values in each column of ds2\n",
    "print(\"\\nNull values in 'ds2' per column:\")\n",
    "print(ds2.isnull().sum())"
   ]
  },
  {
   "cell_type": "code",
   "execution_count": 68,
   "id": "82d66e12",
   "metadata": {},
   "outputs": [
    {
     "name": "stdout",
     "output_type": "stream",
     "text": [
      "<class 'pandas.core.frame.DataFrame'>\n",
      "RangeIndex: 141 entries, 0 to 140\n",
      "Data columns (total 2 columns):\n",
      " #   Column   Non-Null Count  Dtype  \n",
      "---  ------   --------------  -----  \n",
      " 0   quarter  141 non-null    object \n",
      " 1   index    141 non-null    float64\n",
      "dtypes: float64(1), object(1)\n",
      "memory usage: 2.3+ KB\n"
     ]
    }
   ],
   "source": [
    "# next we check the data types of each column\n",
    "ds2.info()\n",
    "# quarter is in correct type, and index is in float64 which is the desired type as well"
   ]
  },
  {
   "cell_type": "code",
   "execution_count": 69,
   "id": "ad1a3929",
   "metadata": {},
   "outputs": [
    {
     "name": "stdout",
     "output_type": "stream",
     "text": [
      "     quarter  index\n",
      "108  2017-Q1  133.9\n",
      "109  2017-Q2  133.7\n",
      "110  2017-Q3  132.8\n",
      "111  2017-Q4  132.6\n",
      "112  2018-Q1  131.6\n",
      "113  2018-Q2  131.7\n",
      "114  2018-Q3  131.6\n",
      "115  2018-Q4  131.4\n",
      "116  2019-Q1  131.0\n",
      "117  2019-Q2  130.8\n",
      "118  2019-Q3  130.9\n",
      "119  2019-Q4  131.5\n",
      "120  2020-Q1  131.5\n",
      "121  2020-Q2  131.9\n",
      "122  2020-Q3  133.9\n",
      "123  2020-Q4  138.1\n",
      "124  2021-Q1  142.2\n",
      "125  2021-Q2  146.4\n",
      "126  2021-Q3  150.6\n",
      "127  2021-Q4  155.7\n",
      "128  2022-Q1  159.5\n",
      "129  2022-Q2  163.9\n",
      "130  2022-Q3  168.1\n",
      "131  2022-Q4  171.9\n",
      "132  2023-Q1  173.6\n",
      "133  2023-Q2  176.2\n",
      "134  2023-Q3  178.5\n",
      "135  2023-Q4  180.4\n",
      "136  2024-Q1  183.7\n",
      "137  2024-Q2  187.9\n",
      "138  2024-Q3  192.9\n",
      "139  2024-Q4  197.9\n",
      "140  2025-Q1  201.0\n"
     ]
    }
   ],
   "source": [
    "# since the given dataset only has data from 2017 to 2025 (2 months after 2025), we will only keep the rows that are within this range\n",
    "\n",
    "# drop rows where the 'quarter' is before '2017-Q1'\n",
    "ds2 = ds2[ds2['quarter'] >= '2017-Q1']\n",
    "\n",
    "# display the resulting dataset\n",
    "print(ds2)\n",
    "\n",
    "# we can see now that the dataset only contains data from 2017-Q1 to 2025-Q2\n",
    "# the rows match the given dataset as well in terms of time period "
   ]
  },
  {
   "cell_type": "code",
   "execution_count": 70,
   "id": "016b5839",
   "metadata": {},
   "outputs": [
    {
     "data": {
      "text/html": [
       "<div>\n",
       "<style scoped>\n",
       "    .dataframe tbody tr th:only-of-type {\n",
       "        vertical-align: middle;\n",
       "    }\n",
       "\n",
       "    .dataframe tbody tr th {\n",
       "        vertical-align: top;\n",
       "    }\n",
       "\n",
       "    .dataframe thead th {\n",
       "        text-align: right;\n",
       "    }\n",
       "</style>\n",
       "<table border=\"1\" class=\"dataframe\">\n",
       "  <thead>\n",
       "    <tr style=\"text-align: right;\">\n",
       "      <th></th>\n",
       "      <th>quarter</th>\n",
       "      <th>index</th>\n",
       "    </tr>\n",
       "  </thead>\n",
       "  <tbody>\n",
       "    <tr>\n",
       "      <th>108</th>\n",
       "      <td>2017-Q1</td>\n",
       "      <td>133.9</td>\n",
       "    </tr>\n",
       "    <tr>\n",
       "      <th>109</th>\n",
       "      <td>2017-Q2</td>\n",
       "      <td>133.7</td>\n",
       "    </tr>\n",
       "    <tr>\n",
       "      <th>110</th>\n",
       "      <td>2017-Q3</td>\n",
       "      <td>132.8</td>\n",
       "    </tr>\n",
       "    <tr>\n",
       "      <th>111</th>\n",
       "      <td>2017-Q4</td>\n",
       "      <td>132.6</td>\n",
       "    </tr>\n",
       "    <tr>\n",
       "      <th>112</th>\n",
       "      <td>2018-Q1</td>\n",
       "      <td>131.6</td>\n",
       "    </tr>\n",
       "    <tr>\n",
       "      <th>113</th>\n",
       "      <td>2018-Q2</td>\n",
       "      <td>131.7</td>\n",
       "    </tr>\n",
       "    <tr>\n",
       "      <th>114</th>\n",
       "      <td>2018-Q3</td>\n",
       "      <td>131.6</td>\n",
       "    </tr>\n",
       "    <tr>\n",
       "      <th>115</th>\n",
       "      <td>2018-Q4</td>\n",
       "      <td>131.4</td>\n",
       "    </tr>\n",
       "    <tr>\n",
       "      <th>116</th>\n",
       "      <td>2019-Q1</td>\n",
       "      <td>131.0</td>\n",
       "    </tr>\n",
       "    <tr>\n",
       "      <th>117</th>\n",
       "      <td>2019-Q2</td>\n",
       "      <td>130.8</td>\n",
       "    </tr>\n",
       "    <tr>\n",
       "      <th>118</th>\n",
       "      <td>2019-Q3</td>\n",
       "      <td>130.9</td>\n",
       "    </tr>\n",
       "    <tr>\n",
       "      <th>119</th>\n",
       "      <td>2019-Q4</td>\n",
       "      <td>131.5</td>\n",
       "    </tr>\n",
       "    <tr>\n",
       "      <th>120</th>\n",
       "      <td>2020-Q1</td>\n",
       "      <td>131.5</td>\n",
       "    </tr>\n",
       "    <tr>\n",
       "      <th>121</th>\n",
       "      <td>2020-Q2</td>\n",
       "      <td>131.9</td>\n",
       "    </tr>\n",
       "    <tr>\n",
       "      <th>122</th>\n",
       "      <td>2020-Q3</td>\n",
       "      <td>133.9</td>\n",
       "    </tr>\n",
       "    <tr>\n",
       "      <th>123</th>\n",
       "      <td>2020-Q4</td>\n",
       "      <td>138.1</td>\n",
       "    </tr>\n",
       "    <tr>\n",
       "      <th>124</th>\n",
       "      <td>2021-Q1</td>\n",
       "      <td>142.2</td>\n",
       "    </tr>\n",
       "    <tr>\n",
       "      <th>125</th>\n",
       "      <td>2021-Q2</td>\n",
       "      <td>146.4</td>\n",
       "    </tr>\n",
       "    <tr>\n",
       "      <th>126</th>\n",
       "      <td>2021-Q3</td>\n",
       "      <td>150.6</td>\n",
       "    </tr>\n",
       "    <tr>\n",
       "      <th>127</th>\n",
       "      <td>2021-Q4</td>\n",
       "      <td>155.7</td>\n",
       "    </tr>\n",
       "    <tr>\n",
       "      <th>128</th>\n",
       "      <td>2022-Q1</td>\n",
       "      <td>159.5</td>\n",
       "    </tr>\n",
       "    <tr>\n",
       "      <th>129</th>\n",
       "      <td>2022-Q2</td>\n",
       "      <td>163.9</td>\n",
       "    </tr>\n",
       "    <tr>\n",
       "      <th>130</th>\n",
       "      <td>2022-Q3</td>\n",
       "      <td>168.1</td>\n",
       "    </tr>\n",
       "    <tr>\n",
       "      <th>131</th>\n",
       "      <td>2022-Q4</td>\n",
       "      <td>171.9</td>\n",
       "    </tr>\n",
       "    <tr>\n",
       "      <th>132</th>\n",
       "      <td>2023-Q1</td>\n",
       "      <td>173.6</td>\n",
       "    </tr>\n",
       "    <tr>\n",
       "      <th>133</th>\n",
       "      <td>2023-Q2</td>\n",
       "      <td>176.2</td>\n",
       "    </tr>\n",
       "    <tr>\n",
       "      <th>134</th>\n",
       "      <td>2023-Q3</td>\n",
       "      <td>178.5</td>\n",
       "    </tr>\n",
       "    <tr>\n",
       "      <th>135</th>\n",
       "      <td>2023-Q4</td>\n",
       "      <td>180.4</td>\n",
       "    </tr>\n",
       "    <tr>\n",
       "      <th>136</th>\n",
       "      <td>2024-Q1</td>\n",
       "      <td>183.7</td>\n",
       "    </tr>\n",
       "    <tr>\n",
       "      <th>137</th>\n",
       "      <td>2024-Q2</td>\n",
       "      <td>187.9</td>\n",
       "    </tr>\n",
       "    <tr>\n",
       "      <th>138</th>\n",
       "      <td>2024-Q3</td>\n",
       "      <td>192.9</td>\n",
       "    </tr>\n",
       "    <tr>\n",
       "      <th>139</th>\n",
       "      <td>2024-Q4</td>\n",
       "      <td>197.9</td>\n",
       "    </tr>\n",
       "    <tr>\n",
       "      <th>140</th>\n",
       "      <td>2025-Q1</td>\n",
       "      <td>201.0</td>\n",
       "    </tr>\n",
       "  </tbody>\n",
       "</table>\n",
       "</div>"
      ],
      "text/plain": [
       "     quarter  index\n",
       "108  2017-Q1  133.9\n",
       "109  2017-Q2  133.7\n",
       "110  2017-Q3  132.8\n",
       "111  2017-Q4  132.6\n",
       "112  2018-Q1  131.6\n",
       "113  2018-Q2  131.7\n",
       "114  2018-Q3  131.6\n",
       "115  2018-Q4  131.4\n",
       "116  2019-Q1  131.0\n",
       "117  2019-Q2  130.8\n",
       "118  2019-Q3  130.9\n",
       "119  2019-Q4  131.5\n",
       "120  2020-Q1  131.5\n",
       "121  2020-Q2  131.9\n",
       "122  2020-Q3  133.9\n",
       "123  2020-Q4  138.1\n",
       "124  2021-Q1  142.2\n",
       "125  2021-Q2  146.4\n",
       "126  2021-Q3  150.6\n",
       "127  2021-Q4  155.7\n",
       "128  2022-Q1  159.5\n",
       "129  2022-Q2  163.9\n",
       "130  2022-Q3  168.1\n",
       "131  2022-Q4  171.9\n",
       "132  2023-Q1  173.6\n",
       "133  2023-Q2  176.2\n",
       "134  2023-Q3  178.5\n",
       "135  2023-Q4  180.4\n",
       "136  2024-Q1  183.7\n",
       "137  2024-Q2  187.9\n",
       "138  2024-Q3  192.9\n",
       "139  2024-Q4  197.9\n",
       "140  2025-Q1  201.0"
      ]
     },
     "execution_count": 70,
     "metadata": {},
     "output_type": "execute_result"
    }
   ],
   "source": [
    "# this is our final cleaned dataset - ds2\n",
    "ds2"
   ]
  },
  {
   "cell_type": "markdown",
   "id": "1844e9ad",
   "metadata": {},
   "source": [
    "#"
   ]
  },
  {
   "cell_type": "markdown",
   "id": "0136db9f",
   "metadata": {},
   "source": [
    "# **Exporting Cleaned Dataset** (additional)\n",
    "---"
   ]
  },
  {
   "cell_type": "code",
   "execution_count": 71,
   "id": "6d6fc063",
   "metadata": {},
   "outputs": [],
   "source": [
    "# now we export the additional cleaned dataset to a new CSV file\n",
    "ds2.to_csv('HDBResalePriceIndex1Q2009100Quarterly_CLEANED.csv', index=False)"
   ]
  },
  {
   "cell_type": "markdown",
   "id": "f7d44d42",
   "metadata": {},
   "source": [
    "#"
   ]
  },
  {
   "cell_type": "markdown",
   "id": "239eb024",
   "metadata": {},
   "source": [
    "- Now we are done cleaning the dataset. \n",
    "- We have also found another dataset to further support our claim. \n",
    "- The additional dataset has also been cleaned. \n",
    "- Now we can import these cleaned datasets into Tableau visualising software to start visualising and telling our \"story\"."
   ]
  }
 ],
 "metadata": {
  "kernelspec": {
   "display_name": "gpu_env",
   "language": "python",
   "name": "python3"
  },
  "language_info": {
   "codemirror_mode": {
    "name": "ipython",
    "version": 3
   },
   "file_extension": ".py",
   "mimetype": "text/x-python",
   "name": "python",
   "nbconvert_exporter": "python",
   "pygments_lexer": "ipython3",
   "version": "3.8.20"
  }
 },
 "nbformat": 4,
 "nbformat_minor": 5
}
